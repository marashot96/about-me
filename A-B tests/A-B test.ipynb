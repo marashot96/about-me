{
 "cells": [
  {
   "cell_type": "markdown",
   "id": "68125ec6",
   "metadata": {},
   "source": [
    "| <div align=\"left\"> <a href=\"https://github.com/marashot96/portfolio/blob/main/A-B%20tests/Navigator.md\">🔙 Назад к навыкам в A/B-тестах </a>  </div> | | <div align=\"center\">  <a href=\"https://github.com/marashot96/portfolio\"> 🇬🇧 English version </a> </div> | | <div align=\"right\"> <a href=\"https://github.com/marashot96/portfolio/blob/main/README.md#-реализованные-проекты\">🔙 Назад к портфолио </a>  </div> |\n",
    "| ---- | -------- | ----- | ---------------- | ------ |\n",
    "\n",
    "\n",
    "# A/B-тестирование: Оптимизация конверсии на сайте банка\n",
    " \n",
    "## Описание эксперимента\n",
    "- **Гипотеза**: Улучшение дизайна формы заявки увеличит конверсию\n",
    "- **Контрольная группа**: Старая версия формы (версия A)\n",
    "- **Тестовая группа**: Новая версия формы (версия B)\n",
    "- **Метрика**: Конверсия в оформление заявки\n",
    "- **Уровень значимости**: 5% (α = 0.05)"
   ]
  },
  {
   "cell_type": "code",
   "execution_count": 1,
   "id": "ce9978d1",
   "metadata": {},
   "outputs": [
    {
     "name": "stdout",
     "output_type": "stream",
     "text": [
      "Конверсия в контрольной группе: 0.1179\n",
      "Конверсия в тестовой группе: 0.1646\n"
     ]
    }
   ],
   "source": [
    "import numpy as np\n",
    "import pandas as pd\n",
    "import matplotlib.pyplot as plt\n",
    "import scipy.stats as stats\n",
    "import seaborn as sns\n",
    "\n",
    "# Параметры эксперимента\n",
    "np.random.seed(42)\n",
    "n_control = 10000  # Размер контрольной группы\n",
    "n_variant = 10000   # Размер тестовой группы\n",
    "conversion_control = 0.123  # Конверсия в контрольной группе\n",
    "conversion_variant = 0.158  # Конверсия в тестовой группе\n",
    "\n",
    "# Генерация данных\n",
    "control_data = np.random.choice([0, 1], size=n_control, p=[1-conversion_control, conversion_control])\n",
    "variant_data = np.random.choice([0, 1], size=n_variant, p=[1-conversion_variant, conversion_variant])\n",
    "\n",
    "# Создаем DataFrame\n",
    "df = pd.DataFrame({\n",
    "    'group': ['control']*n_control + ['variant']*n_variant,\n",
    "    'converted': np.concatenate([control_data, variant_data])\n",
    "})\n",
    "\n",
    "# Расчет конверсий\n",
    "conversion_rates = df.groupby('group')['converted'].mean()\n",
    "print(f\"Конверсия в контрольной группе: {conversion_rates['control']:.4f}\")\n",
    "print(f\"Конверсия в тестовой группе: {conversion_rates['variant']:.4f}\")"
   ]
  },
  {
   "cell_type": "markdown",
   "id": "e30d28b2",
   "metadata": {},
   "source": [
    "## Визуализация результатов"
   ]
  },
  {
   "cell_type": "code",
   "execution_count": 5,
   "id": "ad598fe5",
   "metadata": {},
   "outputs": [
    {
     "data": {
      "image/png": "[encoded data removed]",
      "text/plain": [
       "<Figure size 432x288 with 1 Axes>"
      ]
     },
     "metadata": {
      "needs_background": "light"
     },
     "output_type": "display_data"
    }
   ],
   "source": [
    "# Вычисление доверительных интервалов вручную\n",
    "conf_int_control = stats.t.interval(0.95, len(control_data)-1, \n",
    "                                   loc=np.mean(control_data), \n",
    "                                   scale=stats.sem(control_data))\n",
    "\n",
    "conf_int_variant = stats.t.interval(0.95, len(variant_data)-1, \n",
    "                                   loc=np.mean(variant_data), \n",
    "                                   scale=stats.sem(variant_data))\n",
    "\n",
    "# Создание barplot с ручным добавлением доверительных интервалов\n",
    "bars = plt.bar(['Контроль', 'Тест'], \n",
    "              [conversion_rates['control'], conversion_rates['variant']],\n",
    "              color=['blue', 'green'],\n",
    "              yerr=[(conversion_rates['control'] - conf_int_control[0]), \n",
    "                    (conversion_rates['variant'] - conf_int_variant[0])],\n",
    "              capsize=10)\n",
    "\n",
    "plt.title('Конверсия по группам с 95% доверительными интервалами')\n",
    "plt.ylabel('Конверсия')\n",
    "plt.ylim(0, 0.2)\n",
    "plt.grid(axis='y')\n",
    "\n",
    "# Добавление значений конверсии на столбцы\n",
    "for bar in bars:\n",
    "    height = bar.get_height()\n",
    "    plt.text(bar.get_x() + bar.get_width()/2., height,\n",
    "             f'{height:.3f}', ha='center', va='bottom')\n",
    "\n",
    "plt.show()"
   ]
  },
  {
   "cell_type": "markdown",
   "id": "8e87ff63",
   "metadata": {},
   "source": [
    "## Статистическая проверка гипотез\n",
    " **Нулевая гипотеза (H₀)**: Конверсии в группах равны  \n",
    "**Альтернативная гипотеза (H₁)**: Конверсии различаются"
   ]
  },
  {
   "cell_type": "code",
   "execution_count": 6,
   "id": "24b3dcfa",
   "metadata": {},
   "outputs": [
    {
     "name": "stdout",
     "output_type": "stream",
     "text": [
      "Результаты z-теста:\n",
      "z-статистика = -9.4814\n",
      "p-value = 0.0000\n"
     ]
    }
   ],
   "source": [
    "# Двухвыборочный z-тест для пропорций\n",
    "from statsmodels.stats.proportion import proportions_ztest\n",
    "\n",
    "# Подготовка данных\n",
    "successes = [df[df.group == 'control']['converted'].sum(), \n",
    "             df[df.group == 'variant']['converted'].sum()]\n",
    "nobs = [n_control, n_variant]\n",
    "\n",
    "# Проведение теста\n",
    "z_stat, p_value = proportions_ztest(successes, nobs)\n",
    "\n",
    "print(f\"Результаты z-теста:\")\n",
    "print(f\"z-статистика = {z_stat:.4f}\")\n",
    "print(f\"p-value = {p_value:.4f}\")"
   ]
  },
  {
   "cell_type": "markdown",
   "id": "1747406b",
   "metadata": {},
   "source": [
    "## Расчет экономического эффекта"
   ]
  },
  {
   "cell_type": "code",
   "execution_count": 7,
   "id": "4434ce44",
   "metadata": {},
   "outputs": [
    {
     "name": "stdout",
     "output_type": "stream",
     "text": [
      "\n",
      "Бизнес-эффект от внедрения:\n",
      "+ 4670 карт в месяц\n",
      "+ 280.20 млн RUB годового дохода\n"
     ]
    }
   ],
   "source": [
    "# Параметры бизнеса\n",
    "avg_revenue_per_card = 5000  # RUB (годовой доход)\n",
    "conversion_diff = conversion_rates['variant'] - conversion_rates['control']\n",
    "\n",
    "# Расчет дополнительных карт\n",
    "additional_cards_month = conversion_diff * 100000  # 100k посетителей/месяц\n",
    "additional_revenue_year = additional_cards_month * 12 * avg_revenue_per_card\n",
    "\n",
    "print(f\"\\nБизнес-эффект от внедрения:\")\n",
    "print(f\"+ {additional_cards_month:.0f} карт в месяц\")\n",
    "print(f\"+ {additional_revenue_year/1000000:.2f} млн RUB годового дохода\")"
   ]
  },
  {
   "cell_type": "markdown",
   "id": "fa2a99cd",
   "metadata": {},
   "source": [
    "## Выводы\n",
    "- p-value < 0.001 → **Отвергаем H₀**\n",
    "- Статистически значимое улучшение конверсии\n",
    "- Рекомендация: **Внедрить новую версию** формы на всех страницах\n",
    "\n",
    "---\n",
    "\n",
    "## 💼 Контактная информация\n",
    "Если вы хотите обсудить различные задачи, запросы или проекты, предложить кейс или сотрудничество — обязательно напишите мне!\n",
    "\n",
    "- 📫 [t.me/marashot96](https://t.me/marashot96)\n",
    "- 🌐 [marashot96@ya.ru](mailto:marashot96@ya.ru)\n",
    "\n",
    "\n",
    "| <div align=\"left\"> <a href=\"https://github.com/marashot96/portfolio/blob/main/Python/Navigation.md\">🔙 Назад к навыкам в Python </a>  </div> | | <div align=\"right\"> <a href=\"https://github.com/marashot96/portfolio/blob/main/README.md#-реализованные-проекты\">🔙 Назад к портфолио </a>  </div> |\n",
    "| ---- | ---------------- | ------ |"
   ]
  }
 ],
 "metadata": {
  "kernelspec": {
   "display_name": "Python 3 (ipykernel)",
   "language": "python",
   "name": "python3"
  },
  "language_info": {
   "codemirror_mode": {
    "name": "ipython",
    "version": 3
   },
   "file_extension": ".py",
   "mimetype": "text/x-python",
   "name": "python",
   "nbconvert_exporter": "python",
   "pygments_lexer": "ipython3",
   "version": "3.9.7"
  }
 },
 "nbformat": 4,
 "nbformat_minor": 5
}
