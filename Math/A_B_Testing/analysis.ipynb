
**2. A_B_Testing/analysis.ipynb**
```json
# %% [markdown]
# # A/B-тестирование: Оптимизация конверсии на сайте банка
# 
# ## Описание эксперимента
# - **Гипотеза**: Улучшение дизайна формы заявки увеличит конверсию
# - **Контрольная группа**: Старая версия формы (версия A)
# - **Тестовая группа**: Новая версия формы (версия B)
# - **Метрика**: Конверсия в оформление заявки
# - **Уровень значимости**: 5% (α = 0.05)

# %%
import numpy as np
import pandas as pd
import matplotlib.pyplot as plt
import scipy.stats as stats
import seaborn as sns

# Параметры эксперимента
np.random.seed(42)
n_control = 10000  # Размер контрольной группы
n_variant = 10000   # Размер тестовой группы
conversion_control = 0.123  # Конверсия в контрольной группе
conversion_variant = 0.158  # Конверсия в тестовой группе

# Генерация данных
control_data = np.random.choice([0, 1], size=n_control, p=[1-conversion_control, conversion_control])
variant_data = np.random.choice([0, 1], size=n_variant, p=[1-conversion_variant, conversion_variant])

# Создаем DataFrame
df = pd.DataFrame({
    'group': ['control']*n_control + ['variant']*n_variant,
    'converted': np.concatenate([control_data, variant_data])
})

# Расчет конверсий
conversion_rates = df.groupby('group')['converted'].mean()
print(f"Конверсия в контрольной группе: {conversion_rates['control']:.4f}")
print(f"Конверсия в тестовой группе: {conversion_rates['variant']:.4f}")

# %% [markdown]
# ## Визуализация результатов

# %%
# График конверсии
plt.figure(figsize=(10, 6))
sns.barplot(x=df.group, y=df.converted, errorbar=('ci', 95))
plt.title('Конверсия по группам с 95% доверительными интервалами')
plt.ylabel('Конверсия')
plt.xlabel('Группа')
plt.ylim(0, 0.2)
plt.grid(axis='y')
plt.savefig('assets/conversion_plot.png', bbox_inches='tight')
plt.show()

# %% [markdown]
# ## Статистическая проверка гипотез
# 
# **Нулевая гипотеза (H₀)**: Конверсии в группах равны  
# **Альтернативная гипотеза (H₁)**: Конверсии различаются

# %%
# Двухвыборочный z-тест для пропорций
from statsmodels.stats.proportion import proportions_ztest

# Подготовка данных
successes = [df[df.group == 'control']['converted'].sum(), 
             df[df.group == 'variant']['converted'].sum()]
nobs = [n_control, n_variant]

# Проведение теста
z_stat, p_value = proportions_ztest(successes, nobs)

print(f"Результаты z-теста:")
print(f"z-статистика = {z_stat:.4f}")
print(f"p-value = {p_value:.4f}")

# %% [markdown]
# ## Расчет экономического эффекта

# %%
# Параметры бизнеса
avg_revenue_per_card = 5000  # RUB (годовой доход)
conversion_diff = conversion_rates['variant'] - conversion_rates['control']

# Расчет дополнительных карт
additional_cards_month = conversion_diff * 100000  # 100k посетителей/месяц
additional_revenue_year = additional_cards_month * 12 * avg_revenue_per_card

print(f"\nБизнес-эффект от внедрения:")
print(f"+ {additional_cards_month:.0f} карт в месяц")
print(f"+ {additional_revenue_year/1000000:.2f} млн RUB годового дохода")

# %% [markdown]
# ## Заключение
# 
# - p-value < 0.001 → **Отвергаем H₀**
# - Статистически значимое улучшение конверсии
# - Рекомендация: **Внедрить новую версию** формы на всех страницах
