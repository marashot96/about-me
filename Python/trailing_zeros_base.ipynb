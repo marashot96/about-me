{
 "cells": [
  {
   "cell_type": "markdown",
   "id": "29523155",
   "metadata": {},
   "source": [
    "| <div align=\"left\"> <a href=\"https://github.com/marashot96/portfolio/Python\">🔙 Назад к навыкам в Python </a>  </div> | | <div align=\"center\">  <a href=\"https://github.com/marashot96/portfolio\"> 🇬🇧 English version </a> </div> | | <div align=\"right\"> <a href=\"https://github.com/marashot96/portfolio\">🔙 Назад к портфолио </a>  </div> |\n",
    "| ---- | -------- | ----- | ---------------- | ------ |\n",
    "\n",
    "\n",
    "\n",
    "# 🎯 Количество нулей в конце числа n! в системе счисления b\n",
    "\n",
    "**Цель:** Найти количество конечных нулей в записи факториала n! в системе счисления с основанием b.\n",
    "\n",
    "**Алгоритм:**\n",
    "1. Разложить основание `b` на простые множители: `b = p₁^a₁ * p₂^a₂ * ... * pₖ^aₖ`\n",
    "2. Для каждого простого `pᵢ` вычислить, сколько раз `pᵢ` входит в разложение `n!`:\n",
    "\n",
    "   `sᵢ = [n/pᵢ] + [n/pᵢ²] + [n/pᵢ³] + ...`\n",
    "3. Найти `⌊sᵢ / aᵢ⌋` для каждого i\n",
    "4. Ответ: `min(⌊sᵢ / aᵢ⌋)` по всем `i`\n",
    "\n",
    "**Пример использования:**\n",
    "`trailing_zeros(100, 12)` → `48`\n",
    "\n",
    "**Программу можно запустить здесь:**\n",
    "\n",
    "<div align=\"center\"> <a href=\"https://colab.research.google.com/github/marashot96/portfolio/blob/main/Python/trailing_zeros_base.ipynb\" target=\"_blank\"> <img src=\"https://colab.research.google.com/assets/colab-badge.svg\" alt=\"Open in Colab\"/>\n",
    "</a> </div>\n",
    "\n"
   ]
  },
  {
   "cell_type": "code",
   "execution_count": 9,
   "id": "7e4b9cd0",
   "metadata": {},
   "outputs": [],
   "source": [
    "from math import floor\n",
    "\n",
    "def factor_count(n, p):\n",
    "    count = 0\n",
    "    power = p\n",
    "    while power <= n:\n",
    "        count += n // power\n",
    "        power *= p\n",
    "    return count\n",
    "\n",
    "def prime_factors(b):\n",
    "    i = 2\n",
    "    factors = {}\n",
    "    while i * i <= b:\n",
    "        while b % i == 0:\n",
    "            factors[i] = factors.get(i, 0) + 1\n",
    "            b //= i\n",
    "        i += 1\n",
    "    if b > 1:\n",
    "        factors[b] = 1\n",
    "    return factors\n",
    "\n",
    "def trailing_zeros(n: int, base: int) -> int:\n",
    "    factors = prime_factors(base)\n",
    "    return min(factor_count(n, p) // exp for p, exp in factors.items())"
   ]
  },
  {
   "cell_type": "code",
   "execution_count": 10,
   "id": "4e4f1636",
   "metadata": {},
   "outputs": [
    {
     "name": "stdout",
     "output_type": "stream",
     "text": [
      "In base 8 number 1200! has 398 treailing zeros\n",
      "\n",
      "In base 9 number 1200! has 298 treailing zeros\n",
      "\n",
      "In base 10 number 1200! has 298 treailing zeros\n",
      "\n",
      "In base 11 number 1200! has 118 treailing zeros\n",
      "\n",
      "In base 12 number 1200! has 596 treailing zeros\n",
      "\n"
     ]
    }
   ],
   "source": [
    "n = 1200\n",
    "for i in range (8, 13):\n",
    "    if trailing_zeros(n,i) >=2 :\n",
    "        print(f'In base {i} number {n}! has {trailing_zeros(n,i)} treailing zeros\\n')\n",
    "    elif trailing_zeros(n,i) == 1:\n",
    "        print(f'In base {i} number {n}! has 1 treailing zero\\n')\n",
    "    else:\n",
    "        print(f'In base {i} number {n}! has no treailing zeros\\n')"
   ]
  },
  {
   "cell_type": "markdown",
   "id": "9cebea2e",
   "metadata": {},
   "source": [
    "## ℹ️ Примечания\n",
    "- Поддерживаются любые значения `n ≥ 0`, `b ≥ 2`\n",
    "- Эффективен даже для больших `n` (до ~10⁶)\n",
    "\n",
    "\n",
    "| <div align=\"left\"> <a href=\"https://github.com/marashot96/portfolio/Python\">🔙 Назад к навыкам в Python </a>  </div> | | <div align=\"right\"> <a href=\"https://github.com/marashot96/portfolio\">🔙 Назад к портфолио </a>  </div> |\n",
    "| ---- | ---------------- | ------ |"
   ]
  }
 ],
 "metadata": {
  "kernelspec": {
   "display_name": "Python 3 (ipykernel)",
   "language": "python",
   "name": "python3"
  },
  "language_info": {
   "codemirror_mode": {
    "name": "ipython",
    "version": 3
   },
   "file_extension": ".py",
   "mimetype": "text/x-python",
   "name": "python",
   "nbconvert_exporter": "python",
   "pygments_lexer": "ipython3",
   "version": "3.9.7"
  }
 },
 "nbformat": 4,
 "nbformat_minor": 5
}
