{
 "cells": [
  {
   "cell_type": "markdown",
   "id": "29523155",
   "metadata": {},
   "source": [
    "# 🎯 Количество нулей в числа конце n! в системе счисления b\n",
    "\n",
    "**Цель:** Найти количество конечных нулей в записи факториала n! в системе счисления с основанием b.\n",
    "\n",
    "**Алгоритм:**\n",
    "1. Разложить основание `b` на простые множители: `b = p₁^a₁ * p₂^a₂ * ... * pₖ^aₖ`\n",
    "2. Для каждого простого `pᵢ` вычислить, сколько раз `pᵢ` входит в разложение `n!`:\n",
    "   `sᵢ = [n/pᵢ] + [n/pᵢ²] + [n/pᵢ³] + ...`\n",
    "3. Найти `⌊sᵢ / aᵢ⌋` для каждого i\n",
    "4. Ответ: `min(⌊sᵢ / aᵢ⌋)` по всем `i`\n",
    "\n",
    "**Пример использования:**\n",
    "`trailing_zeros(100, 12)` → `48`\n",
    "\n",
    "**Программу можно запустить здесь:**\n\n",
    "<div align='center'> <a href="https://colab.research.google.com/github/marashot96/portfolio/blob/main/Python/trailing_zeros_base.ipynb" target="_blank">
  <img src="https://colab.research.google.com/assets/colab-badge.svg" alt="Open in Colab"/>
</a> </div>\n"
   ]
  },
  {
   "cell_type": "code",
   "execution_count": 3,
   "id": "7e4b9cd0",
   "metadata": {},
   "outputs": [],
   "source": [
    "from math import floor\n",
    "\n",
    "def factor_count(n, p):\n",
    "    count = 0\n",
    "    power = p\n",
    "    while power <= n:\n",
    "        count += n // power\n",
    "        power *= p\n",
    "    return count\n",
    "\n",
    "def prime_factors(b):\n",
    "    i = 2\n",
    "    factors = {}\n",
    "    while i * i <= b:\n",
    "        while b % i == 0:\n",
    "            factors[i] = factors.get(i, 0) + 1\n",
    "            b //= i\n",
    "        i += 1\n",
    "    if b > 1:\n",
    "        factors[b] = 1\n",
    "    return factors\n",
    "\n",
    "def trailing_zeros(n: int, base: int) -> int:\n",
    "    factors = prime_factors(base)\n",
    "    return min(factor_count(n, p) // exp for p, exp in factors.items())"
   ]
  },
  {
   "cell_type": "code",
   "execution_count": 4,
   "id": "4e4f1636",
   "metadata": {},
   "outputs": [
    {
     "name": "stdout",
     "output_type": "stream",
     "text": [
      "In base 2 number 12! has 10 treailing zeros\n",
      "\n",
      "In base 3 number 12! has 5 treailing zeros\n",
      "\n",
      "In base 4 number 12! has 5 treailing zeros\n",
      "\n",
      "In base 5 number 12! has 2 treailing zeros\n",
      "\n",
      "In base 6 number 12! has 5 treailing zeros\n",
      "\n",
      "In base 7 number 12! has 1 treailing zero\n",
      "\n",
      "In base 8 number 12! has 3 treailing zeros\n",
      "\n",
      "In base 9 number 12! has 2 treailing zeros\n",
      "\n",
      "In base 10 number 12! has 2 treailing zeros\n",
      "\n",
      "In base 11 number 12! has 1 treailing zero\n",
      "\n",
      "In base 12 number 12! has 5 treailing zeros\n",
      "\n",
      "In base 13 number 12! has no treailing zeros\n",
      "\n",
      "In base 14 number 12! has 1 treailing zero\n",
      "\n",
      "In base 15 number 12! has 2 treailing zeros\n",
      "\n",
      "In base 16 number 12! has 2 treailing zeros\n",
      "\n"
     ]
    }
   ],
   "source": [
    "n = 12\n",
    "for i in range (2, 17):\n",
    "    if trailing_zeros(n,i) >=2 :\n",
    "        print(f'In base {i} number {n}! has {trailing_zeros(n,i)} treailing zeros\\n')\n",
    "    elif trailing_zeros(n,i) == 1:\n",
    "        print(f'In base {i} number {n}! has 1 treailing zero\\n')\n",
    "    else:\n",
    "        print(f'In base {i} number {n}! has no treailing zeros\\n')"
   ]
  },
  {
   "cell_type": "markdown",
   "id": "9cebea2e",
   "metadata": {},
   "source": [
    "## ℹ️ Примечания\n",
    "- Поддерживаются любые значения `n ≥ 0`, `b ≥ 2`\n",
    "- Эффективен даже для больших `n` (до ~10⁶)"
   ]
  }
 ],
 "metadata": {
  "kernelspec": {
   "display_name": "Python 3 (ipykernel)",
   "language": "python",
   "name": "python3"
  },
  "language_info": {
   "codemirror_mode": {
    "name": "ipython",
    "version": 3
   },
   "file_extension": ".py",
   "mimetype": "text/x-python",
   "name": "python",
   "nbconvert_exporter": "python",
   "pygments_lexer": "ipython3",
   "version": "3.9.7"
  }
 },
 "nbformat": 4,
 "nbformat_minor": 5
}
